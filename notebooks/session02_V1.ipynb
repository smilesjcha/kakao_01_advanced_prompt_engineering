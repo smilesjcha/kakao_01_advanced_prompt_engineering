{
 "cells": [
  {
   "cell_type": "markdown",
   "id": "a3527062",
   "metadata": {},
   "source": [
    "# Session 2 — Prompt Engineering 실습 (V1)\n",
    "\n",
    "이 노트북은 *고급 프롬프트 엔지니어링* 실습용으로 준비되었습니다.  \n",
    "- **문제 정의 → V0 → V1 → V2** 순으로 단계별 개선 과정을 체험합니다.  \n",
    "- 오직 **`gpt‑4o‑mini`** 모델만 사용합니다.  \n",
    "- 실제 회사 데이터 대신 *샘플* 시나리오 3종(`order_delivery`, `refund`, `account_login`)을 사용합니다.  \n",
    "- 각 버전별 **응답 내용·지연 시간·비용**을 비교해 보세요.\n",
    "\n",
    "> 실습 결과는 개인별로 V0.x ~ V0.3 등의 버전을 추가하며 자유롭게 발전시키면 됩니다."
   ]
  },
  {
   "cell_type": "markdown",
   "id": "a5142eb0",
   "metadata": {},
   "source": [
    "## 패키지 설치 (Colab 또는 로컬)\n",
    "\n",
    "필요한 경우 아래 셀을 실행하여 종속성을 설치하세요."
   ]
  },
  {
   "cell_type": "code",
   "execution_count": null,
   "id": "3ca2fc7c",
   "metadata": {},
   "outputs": [],
   "source": [
    "!pip install -q langfuse openai aiohttp nest_asyncio pandas python-dotenv openpyxl nbformat"
   ]
  },
  {
   "cell_type": "markdown",
   "id": "b34b33eb",
   "metadata": {},
   "source": [
    "## 환경 설정 및 공통 함수"
   ]
  },
  {
   "cell_type": "code",
   "execution_count": 9,
   "id": "6a2c7a56",
   "metadata": {},
   "outputs": [],
   "source": [
    "import os, asyncio, time\n",
    "import nest_asyncio, pandas as pd\n",
    "from dotenv import load_dotenv\n",
    "from langfuse import Langfuse\n",
    "\n",
    "load_dotenv()\n",
    "OPENAI_API_KEY = os.getenv(\"OPENAI_API_KEY\")\n",
    "USE_STUB = OPENAI_API_KEY is None\n",
    "langfuse = Langfuse()\n",
    "\n",
    "if USE_STUB:\n",
    "    print(\"🔧  Stub 모드: OPENAI_API_KEY 가 설정되지 않아 실제 API 호출 대신 더미 응답을 사용합니다.\")\n",
    "else:\n",
    "    from langfuse.openai import AsyncOpenAI\n",
    "    client = AsyncOpenAI(api_key=OPENAI_API_KEY)\n",
    "\n",
    "nest_asyncio.apply()\n",
    "\n",
    "# 가격(USD / token)\n",
    "PRICING = {\"input\": 0.15/1_000_000, \"output\": 0.60/1_000_000}\n",
    "\n",
    "async def call_openai(system_prompt: str, user_prompt: str, model: str = \"gpt-4o-mini\"):\n",
    "    start = time.perf_counter_ns()\n",
    "    if USE_STUB:\n",
    "        await asyncio.sleep(0.05)  # 지연 시간 시뮬레이션\n",
    "        answer = f\"[STUB] '{user_prompt[:25]}...' 에 대한 예시 응답\"\n",
    "        prompt_tokens = len(system_prompt.split()) + len(user_prompt.split())\n",
    "        completion_tokens = 120\n",
    "    else:\n",
    "        resp = await client.chat.completions.create(\n",
    "            model=model,\n",
    "            messages=[\n",
    "                {\"role\": \"system\", \"content\": system_prompt},\n",
    "                {\"role\": \"user\", \"content\": user_prompt},\n",
    "            ],\n",
    "        )\n",
    "        answer = resp.choices[0].message.content.strip()\n",
    "        usage = resp.usage\n",
    "        prompt_tokens = usage.prompt_tokens\n",
    "        completion_tokens = usage.completion_tokens\n",
    "    latency_ms = (time.perf_counter_ns() - start) / 1_000_000\n",
    "    cost = prompt_tokens * PRICING[\"input\"] + completion_tokens * PRICING[\"output\"]\n",
    "    return {\n",
    "        \"answer\": answer,\n",
    "        \"latency_ms\": latency_ms,\n",
    "        \"prompt_tokens\": prompt_tokens,\n",
    "        \"completion_tokens\": completion_tokens,\n",
    "        \"usd_cost\": cost,\n",
    "    }\n",
    "\n",
    "async def run_version(df: pd.DataFrame, version_name: str, build_system_prompt):\n",
    "    tasks = []\n",
    "    for _, row in df.iterrows():\n",
    "        tasks.append(call_openai(build_system_prompt(row), row['question']))\n",
    "    results = await asyncio.gather(*tasks)\n",
    "    # 결과를 컬럼으로 병합\n",
    "    for idx, res in enumerate(results):\n",
    "        for key, val in res.items():\n",
    "            df.loc[idx, f\"{version_name}_{key}\"] = val\n",
    "    return df"
   ]
  },
  {
   "cell_type": "markdown",
   "id": "5dc54e59",
   "metadata": {},
   "source": [
    "## 예시 시나리오"
   ]
  },
  {
   "cell_type": "code",
   "execution_count": 10,
   "id": "b45cc54d",
   "metadata": {},
   "outputs": [
    {
     "data": {
      "text/html": [
       "<div>\n",
       "<style scoped>\n",
       "    .dataframe tbody tr th:only-of-type {\n",
       "        vertical-align: middle;\n",
       "    }\n",
       "\n",
       "    .dataframe tbody tr th {\n",
       "        vertical-align: top;\n",
       "    }\n",
       "\n",
       "    .dataframe thead th {\n",
       "        text-align: right;\n",
       "    }\n",
       "</style>\n",
       "<table border=\"1\" class=\"dataframe\">\n",
       "  <thead>\n",
       "    <tr style=\"text-align: right;\">\n",
       "      <th></th>\n",
       "      <th>scenario</th>\n",
       "      <th>question</th>\n",
       "    </tr>\n",
       "  </thead>\n",
       "  <tbody>\n",
       "    <tr>\n",
       "      <th>0</th>\n",
       "      <td>order_delivery</td>\n",
       "      <td>주문한 상품이 배송 예정일을 지났는데 아직 도착하지 않았어요. 어떻게 확인하나요?</td>\n",
       "    </tr>\n",
       "    <tr>\n",
       "      <th>1</th>\n",
       "      <td>refund</td>\n",
       "      <td>반품 신청을 했는데 환불 처리가 언제 완료되나요?</td>\n",
       "    </tr>\n",
       "    <tr>\n",
       "      <th>2</th>\n",
       "      <td>account_login</td>\n",
       "      <td>로그인 시도 시 2단계 인증 오류가 발생합니다. 어떻게 해결할 수 있나요?</td>\n",
       "    </tr>\n",
       "  </tbody>\n",
       "</table>\n",
       "</div>"
      ],
      "text/plain": [
       "         scenario                                       question\n",
       "0  order_delivery  주문한 상품이 배송 예정일을 지났는데 아직 도착하지 않았어요. 어떻게 확인하나요?\n",
       "1          refund                    반품 신청을 했는데 환불 처리가 언제 완료되나요?\n",
       "2   account_login      로그인 시도 시 2단계 인증 오류가 발생합니다. 어떻게 해결할 수 있나요?"
      ]
     },
     "execution_count": 10,
     "metadata": {},
     "output_type": "execute_result"
    }
   ],
   "source": [
    "scenarios = [\n",
    "    {\"scenario\": \"order_delivery\", \"question\": \"주문한 상품이 배송 예정일을 지났는데 아직 도착하지 않았어요. 어떻게 확인하나요?\"},\n",
    "    {\"scenario\": \"refund\", \"question\": \"반품 신청을 했는데 환불 처리가 언제 완료되나요?\"},\n",
    "    {\"scenario\": \"account_login\", \"question\": \"로그인 시도 시 2단계 인증 오류가 발생합니다. 어떻게 해결할 수 있나요?\"},\n",
    "]\n",
    "df = pd.DataFrame(scenarios)\n",
    "df"
   ]
  },
  {
   "cell_type": "markdown",
   "id": "1589f884",
   "metadata": {},
   "source": [
    "## V0.0 — Zero‑Shot (System Prompt 없이 바로 질문)"
   ]
  },
  {
   "cell_type": "code",
   "execution_count": 11,
   "id": "c6ce598d",
   "metadata": {},
   "outputs": [
    {
     "data": {
      "text/html": [
       "<div>\n",
       "<style scoped>\n",
       "    .dataframe tbody tr th:only-of-type {\n",
       "        vertical-align: middle;\n",
       "    }\n",
       "\n",
       "    .dataframe tbody tr th {\n",
       "        vertical-align: top;\n",
       "    }\n",
       "\n",
       "    .dataframe thead th {\n",
       "        text-align: right;\n",
       "    }\n",
       "</style>\n",
       "<table border=\"1\" class=\"dataframe\">\n",
       "  <thead>\n",
       "    <tr style=\"text-align: right;\">\n",
       "      <th></th>\n",
       "      <th>scenario</th>\n",
       "      <th>V0_0_answer</th>\n",
       "    </tr>\n",
       "  </thead>\n",
       "  <tbody>\n",
       "    <tr>\n",
       "      <th>0</th>\n",
       "      <td>order_delivery</td>\n",
       "      <td>주문한 상품이 배송 예정일을 지났는데 도착하지 않았다면 다음과 같은 방법으로 확인할...</td>\n",
       "    </tr>\n",
       "    <tr>\n",
       "      <th>1</th>\n",
       "      <td>refund</td>\n",
       "      <td>반품 신청 후 환불 처리 완료 시간은 여러 요인에 따라 다를 수 있습니다. 일반적으...</td>\n",
       "    </tr>\n",
       "    <tr>\n",
       "      <th>2</th>\n",
       "      <td>account_login</td>\n",
       "      <td>2단계 인증 오류가 발생할 경우, 다음의 몇 가지 방법을 시도해 보세요:\\n\\n1....</td>\n",
       "    </tr>\n",
       "  </tbody>\n",
       "</table>\n",
       "</div>"
      ],
      "text/plain": [
       "         scenario                                        V0_0_answer\n",
       "0  order_delivery  주문한 상품이 배송 예정일을 지났는데 도착하지 않았다면 다음과 같은 방법으로 확인할...\n",
       "1          refund  반품 신청 후 환불 처리 완료 시간은 여러 요인에 따라 다를 수 있습니다. 일반적으...\n",
       "2   account_login  2단계 인증 오류가 발생할 경우, 다음의 몇 가지 방법을 시도해 보세요:\\n\\n1...."
      ]
     },
     "execution_count": 11,
     "metadata": {},
     "output_type": "execute_result"
    }
   ],
   "source": [
    "def sys_prompt_v0_0(row):\n",
    "    return \"\"\n",
    "\n",
    "await run_version(df, \"V0_0\", sys_prompt_v0_0)\n",
    "df[['scenario', 'V0_0_answer']].head()"
   ]
  },
  {
   "cell_type": "markdown",
   "id": "e80fcc52",
   "metadata": {},
   "source": [
    "## V0.1 — Persona + Tone + Clear Instruction"
   ]
  },
  {
   "cell_type": "code",
   "execution_count": 12,
   "id": "1eb01104",
   "metadata": {},
   "outputs": [
    {
     "data": {
      "text/html": [
       "<div>\n",
       "<style scoped>\n",
       "    .dataframe tbody tr th:only-of-type {\n",
       "        vertical-align: middle;\n",
       "    }\n",
       "\n",
       "    .dataframe tbody tr th {\n",
       "        vertical-align: top;\n",
       "    }\n",
       "\n",
       "    .dataframe thead th {\n",
       "        text-align: right;\n",
       "    }\n",
       "</style>\n",
       "<table border=\"1\" class=\"dataframe\">\n",
       "  <thead>\n",
       "    <tr style=\"text-align: right;\">\n",
       "      <th></th>\n",
       "      <th>scenario</th>\n",
       "      <th>V0_1_answer</th>\n",
       "    </tr>\n",
       "  </thead>\n",
       "  <tbody>\n",
       "    <tr>\n",
       "      <th>0</th>\n",
       "      <td>order_delivery</td>\n",
       "      <td>안녕하세요, 고객님. 배송 예정일이 지나도 상품이 도착하지 않은 점 사과드립니다. ...</td>\n",
       "    </tr>\n",
       "    <tr>\n",
       "      <th>1</th>\n",
       "      <td>refund</td>\n",
       "      <td>고객님, 반품 신청 후 환불 처리에는 보통 3-7일 정도 소요됩니다. 반품 상품이 ...</td>\n",
       "    </tr>\n",
       "    <tr>\n",
       "      <th>2</th>\n",
       "      <td>account_login</td>\n",
       "      <td>안녕하세요. 2단계 인증 오류로 인해 불편을 드려 죄송합니다. 먼저, 인증 코드가 ...</td>\n",
       "    </tr>\n",
       "  </tbody>\n",
       "</table>\n",
       "</div>"
      ],
      "text/plain": [
       "         scenario                                        V0_1_answer\n",
       "0  order_delivery  안녕하세요, 고객님. 배송 예정일이 지나도 상품이 도착하지 않은 점 사과드립니다. ...\n",
       "1          refund  고객님, 반품 신청 후 환불 처리에는 보통 3-7일 정도 소요됩니다. 반품 상품이 ...\n",
       "2   account_login  안녕하세요. 2단계 인증 오류로 인해 불편을 드려 죄송합니다. 먼저, 인증 코드가 ..."
      ]
     },
     "execution_count": 12,
     "metadata": {},
     "output_type": "execute_result"
    }
   ],
   "source": [
    "def sys_prompt_v0_1(row):\n",
    "    return (\n",
    "        \"You are a calm and professional Korean CS chatbot for an e‑commerce platform. \"\n",
    "        \"Answer politely in Korean, maximum 5 sentences.\"\n",
    "    )\n",
    "\n",
    "await run_version(df, \"V0_1\", sys_prompt_v0_1)\n",
    "df[['scenario','V0_1_answer']].head()"
   ]
  },
  {
   "cell_type": "markdown",
   "id": "1306705c",
   "metadata": {},
   "source": [
    "## V0.2 — Few‑Shot + Chain‑of‑Thought"
   ]
  },
  {
   "cell_type": "code",
   "execution_count": 13,
   "id": "5e385730",
   "metadata": {},
   "outputs": [
    {
     "data": {
      "text/html": [
       "<div>\n",
       "<style scoped>\n",
       "    .dataframe tbody tr th:only-of-type {\n",
       "        vertical-align: middle;\n",
       "    }\n",
       "\n",
       "    .dataframe tbody tr th {\n",
       "        vertical-align: top;\n",
       "    }\n",
       "\n",
       "    .dataframe thead th {\n",
       "        text-align: right;\n",
       "    }\n",
       "</style>\n",
       "<table border=\"1\" class=\"dataframe\">\n",
       "  <thead>\n",
       "    <tr style=\"text-align: right;\">\n",
       "      <th></th>\n",
       "      <th>scenario</th>\n",
       "      <th>V0_2_answer</th>\n",
       "    </tr>\n",
       "  </thead>\n",
       "  <tbody>\n",
       "    <tr>\n",
       "      <th>0</th>\n",
       "      <td>order_delivery</td>\n",
       "      <td>불편을 드려 죄송합니다. 주문하신 상품의 운송장 번호를 확인해 주시면 배송 상태를 ...</td>\n",
       "    </tr>\n",
       "    <tr>\n",
       "      <th>1</th>\n",
       "      <td>refund</td>\n",
       "      <td>반품 신청 후 환불 처리는 일반적으로 3~5일 소요됩니다. 반품 상품이 도착하고 검...</td>\n",
       "    </tr>\n",
       "    <tr>\n",
       "      <th>2</th>\n",
       "      <td>account_login</td>\n",
       "      <td>2단계 인증 오류는 주로 입력한 전화번호와 인증 방법 설정의 불일치 혹은 일시적인 ...</td>\n",
       "    </tr>\n",
       "  </tbody>\n",
       "</table>\n",
       "</div>"
      ],
      "text/plain": [
       "         scenario                                        V0_2_answer\n",
       "0  order_delivery  불편을 드려 죄송합니다. 주문하신 상품의 운송장 번호를 확인해 주시면 배송 상태를 ...\n",
       "1          refund  반품 신청 후 환불 처리는 일반적으로 3~5일 소요됩니다. 반품 상품이 도착하고 검...\n",
       "2   account_login  2단계 인증 오류는 주로 입력한 전화번호와 인증 방법 설정의 불일치 혹은 일시적인 ..."
      ]
     },
     "execution_count": 13,
     "metadata": {},
     "output_type": "execute_result"
    }
   ],
   "source": [
    "few_shot_examples = \"\"\"\n",
    "<example>\n",
    "[고객] 주문한 상품이 아직 도착하지 않았어요!\n",
    "[챗봇] 불편을 드려 죄송합니다. 운송장 번호 123‑4567을 조회해 보니 현재 물류센터에 있습니다. 1~2일 내 도착 예정이며, 지연 시 바로 안내드리겠습니다.\n",
    "</example>\n",
    "\"\"\"\n",
    "\n",
    "def sys_prompt_v0_2(row):\n",
    "    return (\n",
    "        f\"{few_shot_examples}\\n\\n\"\n",
    "        \"You are a CS assistant. Think step‑by‑step to figure out the cause internally, \"\n",
    "        \"but provide only the final concise answer in Korean (max 5 lines).\"\n",
    "    )\n",
    "\n",
    "await run_version(df, \"V0_2\", sys_prompt_v0_2)\n",
    "df[['scenario','V0_2_answer']].head()"
   ]
  },
  {
   "cell_type": "markdown",
   "id": "86da1030",
   "metadata": {},
   "source": [
    "## 버전별 비교 (Latency & Cost)"
   ]
  },
  {
   "cell_type": "code",
   "execution_count": 14,
   "id": "ce880de7",
   "metadata": {},
   "outputs": [
    {
     "data": {
      "text/html": [
       "<div>\n",
       "<style scoped>\n",
       "    .dataframe tbody tr th:only-of-type {\n",
       "        vertical-align: middle;\n",
       "    }\n",
       "\n",
       "    .dataframe tbody tr th {\n",
       "        vertical-align: top;\n",
       "    }\n",
       "\n",
       "    .dataframe thead th {\n",
       "        text-align: right;\n",
       "    }\n",
       "</style>\n",
       "<table border=\"1\" class=\"dataframe\">\n",
       "  <thead>\n",
       "    <tr style=\"text-align: right;\">\n",
       "      <th></th>\n",
       "      <th>scenario</th>\n",
       "      <th>V0_0_latency_ms</th>\n",
       "      <th>V0_0_usd_cost</th>\n",
       "      <th>V0_1_latency_ms</th>\n",
       "      <th>V0_1_usd_cost</th>\n",
       "      <th>V0_2_latency_ms</th>\n",
       "      <th>V0_2_usd_cost</th>\n",
       "    </tr>\n",
       "  </thead>\n",
       "  <tbody>\n",
       "    <tr>\n",
       "      <th>0</th>\n",
       "      <td>order_delivery</td>\n",
       "      <td>5201.338833</td>\n",
       "      <td>0.000153</td>\n",
       "      <td>1545.340375</td>\n",
       "      <td>0.000049</td>\n",
       "      <td>1634.396875</td>\n",
       "      <td>0.000072</td>\n",
       "    </tr>\n",
       "    <tr>\n",
       "      <th>1</th>\n",
       "      <td>refund</td>\n",
       "      <td>8404.851375</td>\n",
       "      <td>0.000107</td>\n",
       "      <td>1648.630500</td>\n",
       "      <td>0.000058</td>\n",
       "      <td>1440.019500</td>\n",
       "      <td>0.000050</td>\n",
       "    </tr>\n",
       "    <tr>\n",
       "      <th>2</th>\n",
       "      <td>account_login</td>\n",
       "      <td>5667.732541</td>\n",
       "      <td>0.000199</td>\n",
       "      <td>2128.210834</td>\n",
       "      <td>0.000068</td>\n",
       "      <td>3735.301250</td>\n",
       "      <td>0.000066</td>\n",
       "    </tr>\n",
       "  </tbody>\n",
       "</table>\n",
       "</div>"
      ],
      "text/plain": [
       "         scenario  V0_0_latency_ms  V0_0_usd_cost  V0_1_latency_ms  \\\n",
       "0  order_delivery      5201.338833       0.000153      1545.340375   \n",
       "1          refund      8404.851375       0.000107      1648.630500   \n",
       "2   account_login      5667.732541       0.000199      2128.210834   \n",
       "\n",
       "   V0_1_usd_cost  V0_2_latency_ms  V0_2_usd_cost  \n",
       "0       0.000049      1634.396875       0.000072  \n",
       "1       0.000058      1440.019500       0.000050  \n",
       "2       0.000068      3735.301250       0.000066  "
      ]
     },
     "execution_count": 14,
     "metadata": {},
     "output_type": "execute_result"
    }
   ],
   "source": [
    "compare_cols = ['scenario']\n",
    "for v in ['V0_0','V0_1','V0_2']:\n",
    "    compare_cols += [f\"{v}_latency_ms\", f\"{v}_usd_cost\"]\n",
    "df[compare_cols]"
   ]
  },
  {
   "cell_type": "markdown",
   "id": "c8a01b92",
   "metadata": {},
   "source": [
    "---\n",
    "\n",
    "## ✍️ 개인 실습 영역\n",
    "\n",
    "아래 빈 셀을 복사하여 **V0.1 ~ V0.3** 등 자신만의 변형을 시도해 보세요.  \n",
    "- 새로운 System Prompt를 설계하거나  \n",
    "- Few‑Shot 예시 개수를 늘리거나  \n",
    "- ELI5, JSON 포맷 등 추가 요구사항을 넣어볼 수 있습니다."
   ]
  },
  {
   "cell_type": "code",
   "execution_count": null,
   "id": "cfc8c4e6",
   "metadata": {},
   "outputs": [],
   "source": [
    "# TODO: 여기에 개인 실습 코드를 작성하세요."
   ]
  },
  {
   "cell_type": "markdown",
   "id": "aba01ef8",
   "metadata": {},
   "source": [
    "# 끝 🎉"
   ]
  }
 ],
 "metadata": {
  "kernelspec": {
   "display_name": "Python 3",
   "language": "python",
   "name": "python3"
  },
  "language_info": {
   "codemirror_mode": {
    "name": "ipython",
    "version": 3
   },
   "file_extension": ".py",
   "mimetype": "text/x-python",
   "name": "python",
   "nbconvert_exporter": "python",
   "pygments_lexer": "ipython3",
   "version": "3.10.13"
  }
 },
 "nbformat": 4,
 "nbformat_minor": 5
}
